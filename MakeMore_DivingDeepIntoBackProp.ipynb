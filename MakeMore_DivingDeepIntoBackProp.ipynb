{
  "nbformat": 4,
  "nbformat_minor": 0,
  "metadata": {
    "colab": {
      "provenance": []
    },
    "kernelspec": {
      "name": "python3",
      "display_name": "Python 3"
    },
    "language_info": {
      "name": "python"
    }
  },
  "cells": [
    {
      "cell_type": "code",
      "execution_count": 1,
      "metadata": {
        "id": "w6Ld8_mQiCCN"
      },
      "outputs": [],
      "source": [
        "import torch\n",
        "import torch.nn.functional as F\n",
        "import matplotlib.pyplot as plt\n",
        "%matplotlib inline"
      ]
    },
    {
      "cell_type": "code",
      "source": [
        "# read in all the words\n",
        "words = open('/content/names.txt', 'r').read().splitlines()"
      ],
      "metadata": {
        "id": "BL2uzoX0wY1L"
      },
      "execution_count": 2,
      "outputs": []
    },
    {
      "cell_type": "code",
      "source": [
        "# build the vocab of chars and mappings to/from intergers\n",
        "chars = sorted(list(set(''.join(words))))\n",
        "stoi = {s:i+1 for i, s in enumerate(chars)}\n",
        "stoi['.'] = 0\n",
        "itos = {i:s for s, i in stoi.items()}\n",
        "vocab_size = len(itos)\n",
        "print(itos)\n",
        "print(vocab_size)"
      ],
      "metadata": {
        "colab": {
          "base_uri": "https://localhost:8080/"
        },
        "id": "F9jL9jTGwpaV",
        "outputId": "fedade4f-ab49-4dca-f8a9-5985f04e40ad"
      },
      "execution_count": 3,
      "outputs": [
        {
          "output_type": "stream",
          "name": "stdout",
          "text": [
            "{1: 'a', 2: 'b', 3: 'c', 4: 'd', 5: 'e', 6: 'f', 7: 'g', 8: 'h', 9: 'i', 10: 'j', 11: 'k', 12: 'l', 13: 'm', 14: 'n', 15: 'o', 16: 'p', 17: 'q', 18: 'r', 19: 's', 20: 't', 21: 'u', 22: 'v', 23: 'w', 24: 'x', 25: 'y', 26: 'z', 0: '.'}\n",
            "27\n"
          ]
        }
      ]
    },
    {
      "cell_type": "code",
      "source": [
        "# build the data set\n",
        "block_size = 3 # context length: how many chars do we take to predict the next one\n",
        "def build_dataset(words):\n",
        "   X, Y = [], []\n",
        "\n",
        "   for w in words:\n",
        "    context = [0] * block_size\n",
        "    for ch in w + '.':\n",
        "      idx = stoi[ch]\n",
        "      X.append(context)\n",
        "      Y.append(idx)\n",
        "      context = context[1:] + [idx] # crop and append\n",
        "\n",
        "   X=torch.tensor(X)\n",
        "   Y=torch.tensor(Y)\n",
        "   print(X.shape, Y.shape)\n",
        "   return X, Y"
      ],
      "metadata": {
        "id": "67ek_b9Jwu94"
      },
      "execution_count": 4,
      "outputs": []
    },
    {
      "cell_type": "code",
      "source": [
        "import random\n",
        "random.seed(42)\n",
        "random.shuffle(words)\n",
        "n1 = int(0.8*len(words))\n",
        "n2 = int(0.9*len(words))\n",
        "\n",
        "Xtr, Ytr = build_dataset(words[:n1])\n",
        "Xval, Yval = build_dataset(words[n1:n2])\n",
        "Xte, Yte = build_dataset(words[n2:])"
      ],
      "metadata": {
        "colab": {
          "base_uri": "https://localhost:8080/"
        },
        "id": "97LTUskgwv40",
        "outputId": "c1bc87ad-073c-4c3d-e103-fafec4fdcc45"
      },
      "execution_count": 5,
      "outputs": [
        {
          "output_type": "stream",
          "name": "stdout",
          "text": [
            "torch.Size([182625, 3]) torch.Size([182625])\n",
            "torch.Size([22655, 3]) torch.Size([22655])\n",
            "torch.Size([22866, 3]) torch.Size([22866])\n"
          ]
        }
      ]
    },
    {
      "cell_type": "code",
      "source": [
        "# Utility function that will be used later when comparinf manual gradients to PyTorch gradients\n",
        "def cmp(s, dt, t):\n",
        "  ex = torch.all(dt == t.grad).item() # checking the gradients that we calculate with the gradients calculated by pytorch\n",
        "  app = torch.allclose(dt, t.grad)\n",
        "  maxdiff = (dt - t.grad).abs().max().item()\n",
        "  print(f'{s:15s} | exact: {str(ex):5s} | approximate {str(app):5s} | maxdiff: {maxdiff}')"
      ],
      "metadata": {
        "id": "XACncUdxwwPU"
      },
      "execution_count": 6,
      "outputs": []
    },
    {
      "cell_type": "code",
      "source": [
        "from inspect import Parameter\n",
        "# Initilization\n",
        "n_embd = 10 # the dimensioanlity of the character embedding vectors\n",
        "n_hidden = 64 # the number of neurons in the hidden layer of MLP\n",
        "\n",
        "g = torch.Generator().manual_seed(2147483647)\n",
        "C = torch.randn((vocab_size, n_embd), generator=g)\n",
        "\n",
        "# layer 1\n",
        "W1 = torch.randn((n_embd * block_size, n_hidden), generator=g) * (5/3) / ((n_embd * block_size)**0.5) # multiplying by the gain and divinding by the fan-in\n",
        "b1 = torch.randn(n_hidden, generator=g) * 0.1 # might not be useful as we will use batch norm\n",
        "\n",
        "# layer 2\n",
        "W2 = torch.randn((n_hidden, vocab_size), generator=g) * 0.1\n",
        "b2 = torch.randn(vocab_size, generator=g) * 0.1\n",
        "\n",
        "# batch norm parameters\n",
        "bngain = torch.randn((1, n_hidden)) * 0.1 + 1.0\n",
        "bnbias = torch.randn((1, n_hidden)) * 0.1\n",
        "\n",
        "# Initialized many of the parameters in non-standard ways because sometimes initializing with eg. all zeros could mask an incorrect implementation of backward pass\n",
        "\n",
        "parameters = [C, W1, b1, W2, b2, bngain, bnbias]\n",
        "print(sum(p.nelement() for p in parameters))\n",
        "for p in parameters:\n",
        "  p.requires_grad = True\n"
      ],
      "metadata": {
        "colab": {
          "base_uri": "https://localhost:8080/"
        },
        "id": "kuPXg1i-xzHS",
        "outputId": "6518c37f-f573-4bab-d94b-8b20e7454bd7"
      },
      "execution_count": 7,
      "outputs": [
        {
          "output_type": "stream",
          "name": "stdout",
          "text": [
            "4137\n"
          ]
        }
      ]
    },
    {
      "cell_type": "code",
      "source": [
        "batch_size = 32\n",
        "\n",
        "#contruct minibatch\n",
        "idx = torch.randint(0, Xtr.shape[0], (batch_size, ), generator=g)\n",
        "Xb, Yb = Xtr[idx], Ytr[idx] # batch X, Y"
      ],
      "metadata": {
        "id": "Du798qBe0osb"
      },
      "execution_count": 8,
      "outputs": []
    },
    {
      "cell_type": "code",
      "source": [
        "# forward pass\n",
        "\n",
        "emb = C[Xb] # # shape: (batch_size, block_size, n_embd)\n",
        "embcat = emb.view(emb.shape[0], -1)  # shape: (batch_size, block_size * n_embd)\n",
        "\n",
        "# linear layer 1\n",
        "hprebn = embcat @ W1 + b1 # shape: (batch_size, n_hidden), hidden layer pre-activation\n",
        "\n",
        "# batch norm layer\n",
        "bnmean_i = 1/batch_size*hprebn.sum(0, keepdim=True) # computes the mean of each hidden unit across the batch.\n",
        "bndiff = hprebn - bnmean_i # centers the activations | helps gradient flow and symmetry in weight updates.\n",
        "bndiff_sq = bndiff ** 2\n",
        "bnvar = 1/(batch_size-1)*(bndiff_sq).sum(0, keepdim=True) # to scale the activation | High variance can lead to unstable gradients.\n",
        "# NOTE: Bessel's correction (dividing by n-1, not n)\n",
        "bnvar_inv = (bnvar + 1e-5) ** -0.5 # inverse square root of variance for normalizing the scale of activations.\n",
        "bnraw = bndiff * bnvar_inv # normalizes the centered activations. Produces zero-mean, unit-variance output | Stabilizes training and improves convergence speed.\n",
        "hpreact = bngain * bnraw + bnbias # applies learnable scale (bngain) and shift (bnbias) to normalized activations | Prevents over-constraining the model; lets it learn richer representations.\n",
        "\n",
        "# non-linearity\n",
        "h = torch.tanh(hpreact) # hidden layer\n",
        "\n",
        "# linear layer 2\n",
        "logits = h @ W2 + b2 # output layer\n",
        "\n",
        "# cross entropy loss (same as F.cross_entropy(logits, Yb))\n",
        "logit_maxes = logits.max(1, keepdim=True).values\n",
        "norm_logits = logits - logit_maxes # subtract max for numerical stability\n",
        "# Doing the above step to make sure that the logits do not become to large values as we are going to exponentiate them\n",
        "counts = norm_logits.exp()\n",
        "counts_sum = counts.sum(1, keepdim=True)\n",
        "counts_sum_inv = counts_sum ** -1.0 # if we use (1.0/counts_sum) instead then we will not get exact backbrop values\n",
        "# We normalize in the above step to make sure the probs sum to 1\n",
        "probs = counts * counts_sum_inv # notice that the shapes are not same (32, 27) & (32, 1)\n",
        "# torch first broadcasts the values and then does the element wise multiplication\n",
        "logprobs = probs.log()\n",
        "loss = -logprobs[range(batch_size), Yb].mean()\n",
        "\n",
        "# Pytorch bacward pass\n",
        "for p in parameters:\n",
        "  p.grad = None\n",
        "\n",
        "for t in [logprobs, probs, counts, counts_sum, counts_sum_inv, norm_logits,\n",
        "          logit_maxes, logits, h, hpreact, bnraw, bnvar_inv, bnvar, bndiff_sq,\n",
        "          bndiff, hprebn, bnmean_i, embcat, emb]:\n",
        "  t.retain_grad()\n",
        "loss.backward()\n",
        "loss"
      ],
      "metadata": {
        "colab": {
          "base_uri": "https://localhost:8080/"
        },
        "id": "2NIgfjWD5U8S",
        "outputId": "d7dae592-b9ec-4787-a384-584acffe877a"
      },
      "execution_count": 9,
      "outputs": [
        {
          "output_type": "execute_result",
          "data": {
            "text/plain": [
              "tensor(3.3586, grad_fn=<NegBackward0>)"
            ]
          },
          "metadata": {},
          "execution_count": 9
        }
      ]
    },
    {
      "cell_type": "code",
      "source": [
        "'''\n",
        "loss = - (a + b + c)/3\n",
        "loss = -1/3a + -1/3b + -1/3c\n",
        "dloss/da = -1/n\n",
        "'''"
      ],
      "metadata": {
        "id": "B0ySPS4s-Eaa"
      },
      "execution_count": null,
      "outputs": []
    },
    {
      "cell_type": "code",
      "source": [
        "'''\n",
        "c = a * b, but with tensors\n",
        "a[3X3] * b [3X1]\n",
        "a11*b1 a12*b1 a13*b1\n",
        "a21*b2 a22*b2 a23*b2\n",
        "a31*b3 a32*b3 a33*b3\n",
        "'''"
      ],
      "metadata": {
        "id": "uMh9y8fXwf1K"
      },
      "execution_count": null,
      "outputs": []
    },
    {
      "cell_type": "code",
      "source": [
        "'''\n",
        "counts.shape => (32, 27) and counts_sum.shape => (32, 1)\n",
        "\n",
        "a11 a12 a13 ---> b1 (= a11 + a12 + a13)\n",
        "a21 a22 a23 ---> b2 (= a21 + a22 + a23)\n",
        "a31 a32 a33 ---> b3 (= a31 + a32 + a33)\n",
        "'''"
      ],
      "metadata": {
        "colab": {
          "base_uri": "https://localhost:8080/",
          "height": 35
        },
        "id": "XA0ovLavEhxv",
        "outputId": "6697047c-2177-4c8b-ddac-564ab1423b67"
      },
      "execution_count": null,
      "outputs": [
        {
          "output_type": "execute_result",
          "data": {
            "text/plain": [
              "'\\ncounts.shape => (32, 27) and counts_sum.shape => (32, 1)\\n\\na11 a12 a13 ---> b1 (= a11 + a12 + a13)\\n'"
            ],
            "application/vnd.google.colaboratory.intrinsic+json": {
              "type": "string"
            }
          },
          "metadata": {},
          "execution_count": 30
        }
      ]
    },
    {
      "cell_type": "code",
      "source": [
        "'''\n",
        "norm_logits.shape => (32, 27), logits.shape => (32, 27) & logit_maxes.shape => (32, 1)\n",
        "so again beware of broadcasting\n",
        "\n",
        "c11 c12 c13 = a11 a12 a13   b1\n",
        "c21 c22 c23 = a21 a22 a23 - b2\n",
        "c31 c32 c33 = a31 a32 a33   b3\n",
        "\n",
        "c32 = a32 - b3\n",
        "'''"
      ],
      "metadata": {
        "id": "GhlYpRrDHMkU"
      },
      "execution_count": null,
      "outputs": []
    },
    {
      "cell_type": "code",
      "source": [
        "#dlogits.shape, h.shape, W2.shape, b2.shape"
      ],
      "metadata": {
        "colab": {
          "base_uri": "https://localhost:8080/"
        },
        "id": "uEJfyP33Sg9i",
        "outputId": "d3dda742-f86e-4f26-c6e4-5b22c7c9d793"
      },
      "execution_count": null,
      "outputs": [
        {
          "output_type": "execute_result",
          "data": {
            "text/plain": [
              "(torch.Size([32, 27]),\n",
              " torch.Size([32, 64]),\n",
              " torch.Size([64, 27]),\n",
              " torch.Size([27]))"
            ]
          },
          "metadata": {},
          "execution_count": 38
        }
      ]
    },
    {
      "cell_type": "code",
      "source": [
        "'''\n",
        "bnvar = 1/(batch_size+1)*(bndiff_sq).sum(0, keepdim=True)\n",
        "a11, a12\n",
        "a21, a22\n",
        "\n",
        "b1, b2\n",
        "b1 = 1/(n-1)*(a11 + a21)\n",
        "b2 = 1/(n-1)*(a12 + a22)\n",
        "'''\n",
        "bnvar.shape, bndiff_sq.shape"
      ],
      "metadata": {
        "colab": {
          "base_uri": "https://localhost:8080/"
        },
        "id": "BLoMN_VIxew1",
        "outputId": "833ebe17-976c-45d3-f5fc-cac2a22d2c24"
      },
      "execution_count": 10,
      "outputs": [
        {
          "output_type": "execute_result",
          "data": {
            "text/plain": [
              "(torch.Size([1, 64]), torch.Size([32, 64]))"
            ]
          },
          "metadata": {},
          "execution_count": 10
        }
      ]
    },
    {
      "cell_type": "code",
      "source": [
        "# Exercise 1: backprop through the while thing manually\n",
        "# backpropagating through exactly all of the variables as they are defined in the forward pass above, one by one\n",
        "\n",
        "dlogprobs = torch.zeros_like(logprobs) # create tensor in the shape of logprobs\n",
        "\n",
        "dlogprobs[range(batch_size), Yb] = -1.0/batch_size\n",
        "dprobs = (1.0 / probs) * dlogprobs # derivative of log(x) = 1/x, here x = probs\n",
        "dcounts_sum_inv = (counts * dprobs).sum(1, keepdim=True) # sum for the broadcasting neing done for counts_sum_inv\n",
        "dcounts = (counts_sum_inv * dprobs) # internally broadcasted\n",
        "dcounts_sum = (-1.0 / counts_sum ** 2) * dcounts_sum_inv\n",
        "dcounts += torch.ones_like(counts) * dcounts_sum\n",
        "dnorm_logits = norm_logits.exp() * dcounts # = counts * dcounts (value wise)\n",
        "dlogits = dnorm_logits.clone()\n",
        "dlogit_maxes = (-dlogits).sum(1, keepdim=True)\n",
        "dlogits += F.one_hot(logits.max(1).indices, num_classes=logits.shape[1]) * dlogit_maxes # can also be done in the way we calculated dlogprobs\n",
        "dh = dlogits @ W2.T\n",
        "dW2 = h.T @ dlogits\n",
        "db2 = dlogits.sum(0)\n",
        "dhpreact = (1.0 - h**2) * dh\n",
        "dbngain = (bnraw * dhpreact).sum(0, keepdim=True)\n",
        "dbnraw = bngain * dhpreact\n",
        "dbnbias = dhpreact.sum(0, keepdim=True)\n",
        "dbndiff = bnvar_inv * dbnraw\n",
        "dbnvar_inv = (bndiff * dbnraw).sum(0, keepdim=True)\n",
        "dbnvar = (-0.5*(bnvar + 1e-5)**-1.5) * dbnvar_inv\n",
        "dbndiff_sq = (1.0/(batch_size-1))*torch.ones_like(bndiff_sq) * dbnvar\n",
        "dbndiff += (2 * bndiff) * dbndiff_sq\n",
        "dhprebn = dbndiff.clone()\n",
        "dbnmean_i = ((-1.0)*dbndiff).sum(0)\n",
        "dhprebn += (1.0/batch_size) * (torch.ones_like(hprebn)) * dbnmean_i\n",
        "dembcat = dhprebn @ W1.T\n",
        "dW1 = embcat.T @ dhprebn\n",
        "db1 = dhprebn.sum(0)\n",
        "demb = dembcat.view(emb.shape)\n",
        "dC= torch.zeros_like(C)\n",
        "for i in range(Xb.shape[0]):\n",
        "  for j in range(Xb.shape[1]):\n",
        "    idx = Xb[i, j]\n",
        "    dC[idx] += demb[i, j]\n",
        "\n",
        "cmp('logprobs', dlogprobs, logprobs)\n",
        "cmp('logprobs', dprobs, probs)\n",
        "cmp('counts_sum_inv', dcounts_sum_inv, counts_sum_inv)\n",
        "cmp('counts_sum', dcounts_sum, counts_sum)\n",
        "cmp('counts', dcounts, counts)\n",
        "cmp('norm_logits', dnorm_logits, norm_logits)\n",
        "cmp('logit_maxes', dlogit_maxes, logit_maxes)\n",
        "cmp('logits', dlogits, logits)\n",
        "cmp('h', dh, h)\n",
        "cmp('W2', dW2, W2)\n",
        "cmp('b2', db2, b2)\n",
        "cmp('hpreact', dhpreact, hpreact)\n",
        "cmp('bngain', dbngain, bngain)\n",
        "cmp('bnraw', dbnraw, bnraw)\n",
        "cmp('bnbias', dbnbias, bnbias)\n",
        "cmp('bnvar_inv', dbnvar_inv, bnvar_inv)\n",
        "cmp('bnvar', dbnvar, bnvar)\n",
        "cmp('bndiff_sq', dbndiff_sq, bndiff_sq)\n",
        "cmp('bndiff', dbndiff, bndiff)\n",
        "cmp('hprebn', dhprebn, hprebn)\n",
        "cmp('bnmean_i', dbnmean_i, bnmean_i)\n",
        "cmp('embcat', dembcat, embcat)\n",
        "cmp('W1', dW1, W1)\n",
        "cmp('b1', db1, b1)\n",
        "cmp('emb', demb, emb)\n",
        "cmp('C', dC, C)"
      ],
      "metadata": {
        "colab": {
          "base_uri": "https://localhost:8080/"
        },
        "id": "LBKJFFjdi6qa",
        "outputId": "994ba635-0f6f-473b-b5bf-314ae3e57b43"
      },
      "execution_count": 11,
      "outputs": [
        {
          "output_type": "stream",
          "name": "stdout",
          "text": [
            "logprobs        | exact: True  | approximate True  | maxdiff: 0.0\n",
            "logprobs        | exact: True  | approximate True  | maxdiff: 0.0\n",
            "counts_sum_inv  | exact: True  | approximate True  | maxdiff: 0.0\n",
            "counts_sum      | exact: True  | approximate True  | maxdiff: 0.0\n",
            "counts          | exact: True  | approximate True  | maxdiff: 0.0\n",
            "norm_logits     | exact: True  | approximate True  | maxdiff: 0.0\n",
            "logit_maxes     | exact: True  | approximate True  | maxdiff: 0.0\n",
            "logits          | exact: True  | approximate True  | maxdiff: 0.0\n",
            "h               | exact: True  | approximate True  | maxdiff: 0.0\n",
            "W2              | exact: True  | approximate True  | maxdiff: 0.0\n",
            "b2              | exact: True  | approximate True  | maxdiff: 0.0\n",
            "hpreact         | exact: False | approximate True  | maxdiff: 4.656612873077393e-10\n",
            "bngain          | exact: False | approximate True  | maxdiff: 1.862645149230957e-09\n",
            "bnraw           | exact: False | approximate True  | maxdiff: 9.313225746154785e-10\n",
            "bnbias          | exact: False | approximate True  | maxdiff: 3.725290298461914e-09\n",
            "bnvar_inv       | exact: False | approximate True  | maxdiff: 3.725290298461914e-09\n",
            "bnvar           | exact: False | approximate True  | maxdiff: 6.984919309616089e-10\n",
            "bndiff_sq       | exact: False | approximate True  | maxdiff: 2.1827872842550278e-11\n",
            "bndiff          | exact: False | approximate True  | maxdiff: 9.313225746154785e-10\n",
            "hprebn          | exact: False | approximate True  | maxdiff: 9.313225746154785e-10\n",
            "bnmean_i        | exact: False | approximate True  | maxdiff: 1.862645149230957e-09\n",
            "embcat          | exact: False | approximate True  | maxdiff: 1.3969838619232178e-09\n",
            "W1              | exact: False | approximate True  | maxdiff: 3.725290298461914e-09\n",
            "b1              | exact: False | approximate True  | maxdiff: 5.587935447692871e-09\n",
            "emb             | exact: False | approximate True  | maxdiff: 1.3969838619232178e-09\n",
            "C               | exact: False | approximate True  | maxdiff: 1.1175870895385742e-08\n"
          ]
        }
      ]
    },
    {
      "cell_type": "code",
      "source": [
        "# Exercise 2: backprop through cross_entropy but all in one go\n",
        "\n",
        "# forward pass\n",
        "\n",
        "'''\n",
        "before:\n",
        "logit_maxes = logits.max(1, keepdim=True).values\n",
        "norm_logits = logits - logit_maxes # subtract max for numerical stability\n",
        "# Doing the above step to make sure that the logits do not become to large values as we are going to exponentiate them\n",
        "counts = norm_logits.exp()\n",
        "counts_sum = counts.sum(1, keepdim=True)\n",
        "counts_sum_inv = counts_sum ** -1.0 # if we use (1.0/counts_sum) instead then we will not get exact backbrop values\n",
        "# We normalize in the above step to make sure the probs sum to 1\n",
        "probs = counts * counts_sum_inv # notice that the shapes are not same (32, 27) & (32, 1)\n",
        "# torch first broadcasts the values and then does the element wise multiplication\n",
        "logprobs = probs.log()\n",
        "loss = -logprobs[range(batch_size), Yb].mean()\n",
        "'''\n",
        "\n",
        "# now:\n",
        "loss_fast = F.cross_entropy(logits, Yb)\n",
        "print(loss_fast.item(), 'diff', (loss_fast-loss).item())"
      ],
      "metadata": {
        "colab": {
          "base_uri": "https://localhost:8080/"
        },
        "id": "LV3c95wclON4",
        "outputId": "bd237cc8-7993-4217-f2e6-469341f675ca"
      },
      "execution_count": 12,
      "outputs": [
        {
          "output_type": "stream",
          "name": "stdout",
          "text": [
            "3.358550548553467 diff -4.76837158203125e-07\n"
          ]
        }
      ]
    },
    {
      "cell_type": "code",
      "source": [
        "# backward pass\n",
        "\n",
        "# derivative is p_i if i!=y else p_i-1\n",
        "dlogits = F.softmax(logits, 1) # we can to do the softmax along the rows of the logits\n",
        "dlogits[range(batch_size), Yb] -= 1 # for the elements that are at Yb subtract -1\n",
        "dlogits /= batch_size # we need the average loss for the batch\n",
        "\n",
        "cmp('logits', dlogits, logits)"
      ],
      "metadata": {
        "id": "sznHglR06u3Z",
        "colab": {
          "base_uri": "https://localhost:8080/"
        },
        "outputId": "4d174537-fe30-48f9-898d-db3a3794073b"
      },
      "execution_count": 13,
      "outputs": [
        {
          "output_type": "stream",
          "name": "stdout",
          "text": [
            "logits          | exact: False | approximate True  | maxdiff: 6.51925802230835e-09\n"
          ]
        }
      ]
    },
    {
      "cell_type": "code",
      "source": [
        "F.softmax(logits, 1)[0]"
      ],
      "metadata": {
        "colab": {
          "base_uri": "https://localhost:8080/"
        },
        "id": "Avho5Bacs1uR",
        "outputId": "dbbaf16e-1c7b-4bff-edcc-74a942f7e1d8"
      },
      "execution_count": 14,
      "outputs": [
        {
          "output_type": "execute_result",
          "data": {
            "text/plain": [
              "tensor([0.0703, 0.0898, 0.0195, 0.0465, 0.0206, 0.0769, 0.0254, 0.0365, 0.0178,\n",
              "        0.0297, 0.0378, 0.0406, 0.0401, 0.0300, 0.0359, 0.0124, 0.0098, 0.0190,\n",
              "        0.0172, 0.0530, 0.0495, 0.0195, 0.0297, 0.0712, 0.0529, 0.0266, 0.0216],\n",
              "       grad_fn=<SelectBackward0>)"
            ]
          },
          "metadata": {},
          "execution_count": 14
        }
      ]
    },
    {
      "cell_type": "code",
      "source": [
        "# dlogits is the probs matrix in the forward pass\n",
        "# multiplying by batch_size so that we do not have the scaling by batch_size (avg)\n",
        "dlogits[0]*batch_size # the place where we subtracted 1, so the correct indices"
      ],
      "metadata": {
        "colab": {
          "base_uri": "https://localhost:8080/"
        },
        "id": "VDhquLGCuCol",
        "outputId": "c40ba8d8-300b-4ea9-e19b-10a71463c014"
      },
      "execution_count": 15,
      "outputs": [
        {
          "output_type": "execute_result",
          "data": {
            "text/plain": [
              "tensor([ 0.0703,  0.0898,  0.0195,  0.0465,  0.0206,  0.0769,  0.0254,  0.0365,\n",
              "        -0.9822,  0.0297,  0.0378,  0.0406,  0.0401,  0.0300,  0.0359,  0.0124,\n",
              "         0.0098,  0.0190,  0.0172,  0.0530,  0.0495,  0.0195,  0.0297,  0.0712,\n",
              "         0.0529,  0.0266,  0.0216], grad_fn=<MulBackward0>)"
            ]
          },
          "metadata": {},
          "execution_count": 15
        }
      ]
    },
    {
      "cell_type": "code",
      "source": [
        "dlogits[0].sum() # these sum up to zero -> the value maybe somethines be very to close to zero, python decimal calculation...."
      ],
      "metadata": {
        "colab": {
          "base_uri": "https://localhost:8080/"
        },
        "id": "Q_jyuTKEwYzl",
        "outputId": "029e88b2-28a9-410f-c964-a88e931693e2"
      },
      "execution_count": 16,
      "outputs": [
        {
          "output_type": "execute_result",
          "data": {
            "text/plain": [
              "tensor(-2.7940e-09, grad_fn=<SumBackward0>)"
            ]
          },
          "metadata": {},
          "execution_count": 16
        }
      ]
    },
    {
      "cell_type": "code",
      "source": [
        "'''\n",
        "the gradient at each cell is like a force where we try to push the correct probs up and pull the incorrect probs down,\n",
        "and the amount of force applied to push and pull the probs sums to zero\n",
        "the amount of force we apply to propotional to the probs that come out in the forward pass\n",
        "\n",
        "if the probs were exactly correct then in that case,\n",
        "we will have zero at all incorrect indices\n",
        "and 1 at the correct index\n",
        "and then in this cae dlogits will be all zero (0 by default at incorrect, and we subtract 1 for the correct, so it becomes zero as well)\n",
        "'''"
      ],
      "metadata": {
        "id": "Hik7MxqXxHEQ"
      },
      "execution_count": null,
      "outputs": []
    },
    {
      "cell_type": "code",
      "source": [
        "plt.figure(figsize=(8,8))\n",
        "plt.imshow(dlogits.detach(), cmap='gray')\n",
        "# the black spots are the correct indices"
      ],
      "metadata": {
        "colab": {
          "base_uri": "https://localhost:8080/",
          "height": 693
        },
        "id": "nx4i41SmzDcd",
        "outputId": "1cfe8b43-4a93-4c59-f59b-bf068e0f77f1"
      },
      "execution_count": 17,
      "outputs": [
        {
          "output_type": "execute_result",
          "data": {
            "text/plain": [
              "<matplotlib.image.AxesImage at 0x7d17ebf80390>"
            ]
          },
          "metadata": {},
          "execution_count": 17
        },
        {
          "output_type": "display_data",
          "data": {
            "text/plain": [
              "<Figure size 800x800 with 1 Axes>"
            ],
            "image/png": "[encoded data removed]"
          },
          "metadata": {}
        }
      ]
    },
    {
      "cell_type": "code",
      "source": [
        "# Exercise 3: backprop through batchnorm but all in one go\n",
        "\n",
        "# forward pass\n",
        "\n",
        "'''\n",
        "before:\n",
        "\n",
        "# batch norm layer\n",
        "bnmean_i = 1/batch_size*hprebn.sum(0, keepdim=True) # computes the mean of each hidden unit across the batch.\n",
        "bndiff = hprebn - bnmean_i # centers the activations | helps gradient flow and symmetry in weight updates.\n",
        "bndiff_sq = bndiff ** 2\n",
        "bnvar = 1/(batch_size+1)*(bndiff_sq).sum(0, keepdim=True) # to scale the activation | High variance can lead to unstable gradients.\n",
        "# NOTE: Bessel's correction (dividing by n-1, not n)\n",
        "bnvar_inv = (bnvar + 1e-5) ** -0.5 # inverse square root of variance for normalizing the scale of activations.\n",
        "bnraw = bndiff * bnvar_inv # normalizes the centered activations. Produces zero-mean, unit-variance output | Stabilizes training and improves convergence speed.\n",
        "hpreact = bngain * bnraw + bnbias # applies learnable scale (bngain) and shift (bnbias) to normalized activations | Prevents over-constraining the model; lets it learn richer representations.\n",
        "'''\n",
        "\n",
        "# now:\n",
        "\n",
        "hpreact_fast = bngain * (hprebn - hprebn.mean(0, keepdim=True)) / torch.sqrt(hprebn.var(0, keepdim=True, unbiased=True) + 1e-5) + bnbias\n",
        "print('max diff:', (hpreact_fast - hpreact).abs().max())"
      ],
      "metadata": {
        "colab": {
          "base_uri": "https://localhost:8080/"
        },
        "id": "BT_9QpAezPW2",
        "outputId": "191d94b9-fe34-4230-ed9e-1abbc1304f18"
      },
      "execution_count": 18,
      "outputs": [
        {
          "output_type": "stream",
          "name": "stdout",
          "text": [
            "max diff: tensor(4.7684e-07, grad_fn=<MaxBackward1>)\n"
          ]
        }
      ]
    },
    {
      "cell_type": "code",
      "source": [
        "# backward pass\n",
        "\n",
        "'''\n",
        "before:\n",
        "\n",
        "dbnraw = bngain * dhpreact\n",
        "dbnbias = dhpreact.sum(0, keepdim=True)\n",
        "dbndiff = bnvar_inv * dbnraw\n",
        "dbnvar_inv = (bndiff * dbnraw).sum(0, keepdim=True)\n",
        "dbnvar = (-0.5*(bnvar + 1e-5)**-1.5) * dbnvar_inv\n",
        "dbndiff_sq = (1.0/(batch_size-1))*torch.ones_like(bndiff_sq) * dbnvar\n",
        "dbndiff += (2 * bndiff) * dbndiff_sq\n",
        "dhprebn = dbndiff.clone()\n",
        "dbnmean_i = ((-1.0)*dbndiff).sum(0)\n",
        "dhprebn += (1.0/batch_size) * (torch.ones_like(hprebn)) * dbnmean_i\n",
        "'''\n",
        "\n",
        "#now:\n",
        "dhprebn = ((bngain * bnvar_inv) / batch_size) * (batch_size * dhpreact - dhpreact.sum(0) - batch_size/(batch_size - 1) * bnraw * (dhpreact * bnraw).sum(0))\n",
        "cmp('hprebn', dhprebn, hprebn)"
      ],
      "metadata": {
        "id": "E0ukv4ky3P0r",
        "colab": {
          "base_uri": "https://localhost:8080/"
        },
        "outputId": "a4671734-6cac-47ff-e0f8-eab67d03fe12"
      },
      "execution_count": 21,
      "outputs": [
        {
          "output_type": "stream",
          "name": "stdout",
          "text": [
            "hprebn          | exact: False | approximate True  | maxdiff: 9.313225746154785e-10\n"
          ]
        }
      ]
    },
    {
      "cell_type": "code",
      "source": [
        "# Exercise 4: Putting it all together\n",
        "# Train the MLP neura; net with our own backward pass\n",
        "\n",
        "n_embd = 10 # the dimensionality of the character embedding the vectors\n",
        "n_hidden = 200 # the number of neurons in the hidden layer of the MLP\n",
        "\n",
        "g = torch.Generator().manual_seed(2147483647)\n",
        "C = torch.randn((vocab_size, n_embd), generator=g)\n",
        "\n",
        "# layer 1\n",
        "W1 = torch.randn((n_embd * block_size, n_hidden), generator=g) * (5/3) / ((n_embd * block_size) ** 0.5)\n",
        "b1 = torch.randn(n_hidden, generator=g) * 0.1\n",
        "\n",
        "# layer 2\n",
        "W2 = torch.randn((n_hidden, vocab_size), generator=g) * 0.1\n",
        "b2 = torch.randn(vocab_size, generator=g) * 0.1\n",
        "\n",
        "# batch norm parameters\n",
        "bngain = torch.randn((1, n_hidden)) * 0.1 + 1.0\n",
        "bnbias = torch.randn((1, n_hidden)) * 0.1\n",
        "\n",
        "parameters = [C, W1, b1, W2, b2, bngain, bnbias]\n",
        "print(sum(p.nelement() for p in parameters))\n",
        "for p in parameters:\n",
        "  p.requires_grad = True\n",
        "\n",
        "# same optimization as last time\n",
        "max_steps = 200000\n",
        "batch_size = 32\n",
        "loss_i = []\n",
        "\n",
        "# use the following when not useing loss.backward\n",
        "with torch.no_grad():\n",
        "\n",
        "  # kick of optimization\n",
        "  for i in range(max_steps):\n",
        "\n",
        "    # mini batch construct\n",
        "    idx = torch.randint(0, Xtr.shape[0], (batch_size,), generator=g)\n",
        "    Xb, Yb = Xtr[idx], Ytr[idx]\n",
        "\n",
        "    # forward pass\n",
        "    emb = C[Xb] # embed the vectors\n",
        "    embcat = emb.view(emb.shape[0], -1) # concat the vectors\n",
        "    # linear layer\n",
        "    hprebn = embcat @ W1 + b1 # hidden layer pre activation\n",
        "    # batch norm layer\n",
        "    #---------------------------------------------------------------------------\n",
        "    bnmean = hprebn.mean(0, keepdim=True)\n",
        "    bnvar = hprebn.var(0, keepdim=True, unbiased = True)\n",
        "    bnvar_inv = (bnvar + 1e-5) ** -0.5 # inv and sqrt\n",
        "    bnraw = (hprebn - bnmean) * bnvar_inv\n",
        "    hpreact = bngain * bnraw + bnbias\n",
        "    #---------------------------------------------------------------------------\n",
        "    # non-leniarity\n",
        "    h = torch.tanh(hpreact) # hidden layer\n",
        "    logits = h @ W2 + b2 # output layer\n",
        "    loss = F.cross_entropy(logits, Yb) # loss function\n",
        "\n",
        "    # backward pass\n",
        "    for p in parameters:\n",
        "      p.grad = None\n",
        "    #loss.backward() # uncomment this when not using manual backprop or for verification of manual answer\n",
        "\n",
        "    # manual backprop!!! -------------------------------------------------------\n",
        "    dlogits = F.softmax(logits, 1)\n",
        "    dlogits[range(batch_size), Yb] -= 1\n",
        "    dlogits /= batch_size\n",
        "    # 2nd layer\n",
        "    dh = dlogits @ W2.T\n",
        "    dW2 = h.T @ dlogits\n",
        "    db2 = dlogits.sum(0)\n",
        "    # for tanh\n",
        "    dhpreact = (1.0 - h**2) * dh\n",
        "    # batch norm layer\n",
        "    dbngain = (bnraw * dhpreact).sum(0, keepdim=True)\n",
        "    dbnbias = dhpreact.sum(0, keepdim=True)\n",
        "    dhprebn =  (bngain * bnvar_inv / batch_size) * (batch_size * dhpreact - dhpreact.sum(0) - batch_size/(batch_size - 1) * bnraw * (dhpreact * bnraw).sum(0))\n",
        "    # 1st layer\n",
        "    dembcat = dhprebn @ W1.T\n",
        "    dW1 = embcat.T @ dhprebn\n",
        "    db1 = dhprebn.sum(0)\n",
        "    # for embedding part\n",
        "    demb = dembcat.view(emb.shape)\n",
        "    dC = torch.zeros_like(C)\n",
        "    for a in range(Xb.shape[0]):\n",
        "      for b in range(Xb.shape[1]):\n",
        "        c = Xb[a, b]\n",
        "        dC[c] += demb[a, b]\n",
        "    grads = [dC, dW1, db1, dW2, db2, dbngain, dbnbias] #-------------------------\n",
        "\n",
        "\n",
        "    # update\n",
        "    lr = 0.1 if i < 100000 else 0.01 # step learning rate decay\n",
        "    for p, grad in zip(parameters, grads):\n",
        "      #p.data += -lr * p.grad # old way of cheems doge (using PyTorch grad from .backward())\n",
        "      p.data += -lr * grad # new way of swole doge TODO: enable\n",
        "\n",
        "    # track stats\n",
        "    if i % 10000 == 0: # print every once in a while\n",
        "      print(f'{i:7d}/{max_steps:7d}: {loss.item():.4f}')\n",
        "    loss_i.append(loss.log10().item())\n",
        "\n",
        "    #if i >= 100: # TODO: delete early breaking when you're ready to train the full net\n",
        "    #  break"
      ],
      "metadata": {
        "colab": {
          "base_uri": "https://localhost:8080/"
        },
        "id": "-2T-ASNoATp_",
        "outputId": "43b883ba-045c-4cea-89ba-66ffbd157f2f"
      },
      "execution_count": 62,
      "outputs": [
        {
          "output_type": "stream",
          "name": "stdout",
          "text": [
            "12297\n",
            "      0/ 200000: 3.7294\n",
            "  10000/ 200000: 2.1764\n",
            "  20000/ 200000: 2.3869\n",
            "  30000/ 200000: 2.5004\n",
            "  40000/ 200000: 1.9757\n",
            "  50000/ 200000: 2.3242\n",
            "  60000/ 200000: 2.3282\n",
            "  70000/ 200000: 1.9698\n",
            "  80000/ 200000: 2.2784\n",
            "  90000/ 200000: 2.2067\n",
            " 100000/ 200000: 1.9002\n",
            " 110000/ 200000: 2.3915\n",
            " 120000/ 200000: 1.9416\n",
            " 130000/ 200000: 2.4663\n",
            " 140000/ 200000: 2.2794\n",
            " 150000/ 200000: 2.0789\n",
            " 160000/ 200000: 1.8816\n",
            " 170000/ 200000: 1.8242\n",
            " 180000/ 200000: 1.9948\n",
            " 190000/ 200000: 1.9407\n"
          ]
        }
      ]
    },
    {
      "cell_type": "code",
      "source": [
        "# for checking the gradients\n",
        "for p, g in zip(parameters, grads):\n",
        "  cmp(str(tuple(p.shape)), g, p)"
      ],
      "metadata": {
        "colab": {
          "base_uri": "https://localhost:8080/"
        },
        "id": "4aSQ9TXzOnRL",
        "outputId": "fefa0e3b-b77d-4ea2-9e4f-a94a63da0931"
      },
      "execution_count": 58,
      "outputs": [
        {
          "output_type": "stream",
          "name": "stdout",
          "text": [
            "(27, 10)        | exact: False | approximate True  | maxdiff: 1.30385160446167e-08\n",
            "(30, 200)       | exact: False | approximate True  | maxdiff: 7.916241884231567e-09\n",
            "(200,)          | exact: False | approximate True  | maxdiff: 5.587935447692871e-09\n",
            "(200, 27)       | exact: False | approximate True  | maxdiff: 1.4901161193847656e-08\n",
            "(27,)           | exact: False | approximate True  | maxdiff: 7.450580596923828e-09\n",
            "(1, 200)        | exact: False | approximate True  | maxdiff: 3.026798367500305e-09\n",
            "(1, 200)        | exact: False | approximate True  | maxdiff: 7.450580596923828e-09\n"
          ]
        }
      ]
    },
    {
      "cell_type": "code",
      "source": [
        "# calliberate the batch norm at the end of the training\n",
        "\n",
        "with torch.no_grad():\n",
        "  # pass the training through\n",
        "  emb = C[Xtr]\n",
        "  embcat = emb.view(emb.shape[0], -1)\n",
        "  hpreact = embcat @ W1 + b1\n",
        "  # measure the mean, std dev over the entire training set\n",
        "  bnmean = hpreact.mean(0, keepdim=True)\n",
        "  bnvar = hpreact.var(0, keepdim=True)"
      ],
      "metadata": {
        "id": "GyVMg28XOnrS"
      },
      "execution_count": 63,
      "outputs": []
    },
    {
      "cell_type": "code",
      "source": [
        "# evaluate train and val loss\n",
        "\n",
        "@torch.no_grad() # disable the gradient tracking\n",
        "def split_loss(split):\n",
        "  x, y = {\n",
        "      'train': {Xtr, Ytr},\n",
        "      'val': {Xval, Yval},\n",
        "      'test': {Xte, Yte},\n",
        "  }[split]\n",
        "\n",
        "  emb = C[x] # (batch_size, block_size, n_embd)\n",
        "  embcat = emb.view(emb.shape[0], -1) # concat to (batch_size, block_size * n_embd)\n",
        "  hpreact = embcat @ W1 + b1\n",
        "  hpreact = bngain * (hpreact - bnmean) * (bnvar + 1e-5) ** -0.5 + bnbias\n",
        "  h = torch.tanh(hpreact)\n",
        "  logits = h @ W2 + b2\n",
        "  loss = F.cross_entropy(logits, y)\n",
        "  print(split, loss.item())\n",
        "\n",
        "split_loss('train')\n",
        "split_loss('val')"
      ],
      "metadata": {
        "colab": {
          "base_uri": "https://localhost:8080/"
        },
        "id": "nLyPqhbnOn_5",
        "outputId": "9e46d93b-03c0-4b3b-d9c9-e21abeae9987"
      },
      "execution_count": 64,
      "outputs": [
        {
          "output_type": "stream",
          "name": "stdout",
          "text": [
            "train 2.071078300476074\n",
            "val 2.110525369644165\n"
          ]
        }
      ]
    },
    {
      "cell_type": "code",
      "source": [
        "# sample from the model\n",
        "g = torch.Generator().manual_seed(2147483647 + 10)\n",
        "\n",
        "for _ in range(20):\n",
        "\n",
        "    out = []\n",
        "    context = [0] * block_size # initialize with all ...\n",
        "    while True:\n",
        "      # forward pass\n",
        "      emb = C[torch.tensor([context])] # (1, block_size, d)\n",
        "      embcat = emb.view(emb.shape[0], -1) # concat into (batch_size, block_size * n_embd)\n",
        "      hpreact = embcat @ W1 + b1\n",
        "      hpreact = bngain * (hpreact - bnmean) * (bnvar + 1e-5) ** -0.5 + bnbias\n",
        "      h = torch.tanh(hpreact) # (N, n_hidden)\n",
        "      logits = h @ W2 + b2 # (N, vocab_size)\n",
        "      # sample\n",
        "      probs = F.softmax(logits, dim=1)\n",
        "      ix = torch.multinomial(probs, num_samples=1, generator=g).item()\n",
        "      context = context[1:] + [ix]\n",
        "      out.append(ix)\n",
        "      if ix == 0:\n",
        "        break\n",
        "\n",
        "    print(''.join(itos[i] for i in out))"
      ],
      "metadata": {
        "colab": {
          "base_uri": "https://localhost:8080/"
        },
        "id": "42FKup1eQgIY",
        "outputId": "b6790d52-64ae-4e6c-d8f5-665c931725dc"
      },
      "execution_count": 65,
      "outputs": [
        {
          "output_type": "stream",
          "name": "stdout",
          "text": [
            "mora.\n",
            "mayah.\n",
            "see.\n",
            "mad.\n",
            "rylle.\n",
            "emman.\n",
            "endraegusteredielin.\n",
            "shi.\n",
            "jen.\n",
            "eden.\n",
            "estanar.\n",
            "kayzion.\n",
            "kamin.\n",
            "shubergshirael.\n",
            "kindreelle.\n",
            "jose.\n",
            "casubented.\n",
            "ryyah.\n",
            "faeh.\n",
            "yuma.\n"
          ]
        }
      ]
    },
    {
      "cell_type": "code",
      "source": [],
      "metadata": {
        "id": "thBe-_ZOUuqY"
      },
      "execution_count": null,
      "outputs": []
    }
  ]
}